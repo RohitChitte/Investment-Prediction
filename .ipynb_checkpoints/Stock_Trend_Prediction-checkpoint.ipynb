{
 "cells": [
  {
   "cell_type": "code",
   "execution_count": 23,
   "metadata": {
    "colab": {
     "base_uri": "https://localhost:8080/"
    },
    "id": "57sc3F2slHoa",
    "outputId": "49ddf268-3fba-4d07-816f-537e11a1c08c"
   },
   "outputs": [
    {
     "name": "stdout",
     "output_type": "stream",
     "text": [
      "Looking in indexes: https://pypi.org/simple, https://us-python.pkg.dev/colab-wheels/public/simple/\n",
      "Collecting nsepy\n",
      "  Downloading nsepy-0.8.tar.gz (33 kB)\n",
      "  Preparing metadata (setup.py) ... \u001b[?25l\u001b[?25hdone\n",
      "Requirement already satisfied: beautifulsoup4 in /usr/local/lib/python3.8/dist-packages (from nsepy) (4.6.3)\n",
      "Requirement already satisfied: requests in /usr/local/lib/python3.8/dist-packages (from nsepy) (2.25.1)\n",
      "Requirement already satisfied: numpy in /usr/local/lib/python3.8/dist-packages (from nsepy) (1.21.6)\n",
      "Requirement already satisfied: pandas in /usr/local/lib/python3.8/dist-packages (from nsepy) (1.5.2)\n",
      "Requirement already satisfied: six in /usr/local/lib/python3.8/dist-packages (from nsepy) (1.15.0)\n",
      "Requirement already satisfied: click in /usr/local/lib/python3.8/dist-packages (from nsepy) (7.1.2)\n",
      "Requirement already satisfied: lxml in /usr/local/lib/python3.8/dist-packages (from nsepy) (4.9.2)\n",
      "Requirement already satisfied: python-dateutil>=2.8.1 in /usr/local/lib/python3.8/dist-packages (from pandas->nsepy) (2.8.2)\n",
      "Requirement already satisfied: pytz>=2020.1 in /usr/local/lib/python3.8/dist-packages (from pandas->nsepy) (2022.7)\n",
      "Requirement already satisfied: urllib3<1.27,>=1.21.1 in /usr/local/lib/python3.8/dist-packages (from requests->nsepy) (1.24.3)\n",
      "Requirement already satisfied: idna<3,>=2.5 in /usr/local/lib/python3.8/dist-packages (from requests->nsepy) (2.10)\n",
      "Requirement already satisfied: chardet<5,>=3.0.2 in /usr/local/lib/python3.8/dist-packages (from requests->nsepy) (4.0.0)\n",
      "Requirement already satisfied: certifi>=2017.4.17 in /usr/local/lib/python3.8/dist-packages (from requests->nsepy) (2022.12.7)\n",
      "Building wheels for collected packages: nsepy\n",
      "  Building wheel for nsepy (setup.py) ... \u001b[?25l\u001b[?25hdone\n",
      "  Created wheel for nsepy: filename=nsepy-0.8-py3-none-any.whl size=36085 sha256=15465528eb9cef68f84f766f6b60c40b8a4af8af249e8def3b4b98da71415d05\n",
      "  Stored in directory: /root/.cache/pip/wheels/b9/2c/cb/d74199e422a1dbc20297d10cfff9c54d03e0b5c6694d49ccdd\n",
      "Successfully built nsepy\n",
      "Installing collected packages: nsepy\n",
      "Successfully installed nsepy-0.8\n"
     ]
    }
   ],
   "source": [
    "!pip install nsepy"
   ]
  },
  {
   "cell_type": "code",
   "execution_count": 26,
   "metadata": {
    "id": "4iPlMVI_0MAY"
   },
   "outputs": [],
   "source": [
    "import numpy as np \n",
    "import pandas as pd             \n",
    "import matplotlib.pyplot as plt \n",
    "import datetime as dt\n",
    "import pandas_datareader as pdr\n",
    "import yahoo_finance\n",
    "from nsepy import get_history\n",
    "from datetime import date"
   ]
  },
  {
   "cell_type": "code",
   "execution_count": 33,
   "metadata": {
    "colab": {
     "base_uri": "https://localhost:8080/",
     "height": 455
    },
    "id": "xrT7ifZam1dt",
    "outputId": "a3dc30bb-bfa0-497c-86fe-44f58a7468a1"
   },
   "outputs": [
    {
     "data": {
      "text/html": [
       "\n",
       "  <div id=\"df-d6dac125-3c9b-43ca-af0f-2743b65b7466\">\n",
       "    <div class=\"colab-df-container\">\n",
       "      <div>\n",
       "<style scoped>\n",
       "    .dataframe tbody tr th:only-of-type {\n",
       "        vertical-align: middle;\n",
       "    }\n",
       "\n",
       "    .dataframe tbody tr th {\n",
       "        vertical-align: top;\n",
       "    }\n",
       "\n",
       "    .dataframe thead th {\n",
       "        text-align: right;\n",
       "    }\n",
       "</style>\n",
       "<table border=\"1\" class=\"dataframe\">\n",
       "  <thead>\n",
       "    <tr style=\"text-align: right;\">\n",
       "      <th></th>\n",
       "      <th>Symbol</th>\n",
       "      <th>Series</th>\n",
       "      <th>Prev Close</th>\n",
       "      <th>Open</th>\n",
       "      <th>High</th>\n",
       "      <th>Low</th>\n",
       "      <th>Last</th>\n",
       "      <th>Close</th>\n",
       "      <th>VWAP</th>\n",
       "      <th>Volume</th>\n",
       "      <th>Turnover</th>\n",
       "      <th>Trades</th>\n",
       "      <th>Deliverable Volume</th>\n",
       "      <th>%Deliverble</th>\n",
       "    </tr>\n",
       "    <tr>\n",
       "      <th>Date</th>\n",
       "      <th></th>\n",
       "      <th></th>\n",
       "      <th></th>\n",
       "      <th></th>\n",
       "      <th></th>\n",
       "      <th></th>\n",
       "      <th></th>\n",
       "      <th></th>\n",
       "      <th></th>\n",
       "      <th></th>\n",
       "      <th></th>\n",
       "      <th></th>\n",
       "      <th></th>\n",
       "      <th></th>\n",
       "    </tr>\n",
       "  </thead>\n",
       "  <tbody>\n",
       "    <tr>\n",
       "      <th>2005-01-03</th>\n",
       "      <td>SBIN</td>\n",
       "      <td>EQ</td>\n",
       "      <td>652.00</td>\n",
       "      <td>654.50</td>\n",
       "      <td>662.90</td>\n",
       "      <td>650.10</td>\n",
       "      <td>657.00</td>\n",
       "      <td>655.75</td>\n",
       "      <td>656.76</td>\n",
       "      <td>2131452</td>\n",
       "      <td>1.399851e+14</td>\n",
       "      <td>NaN</td>\n",
       "      <td>399911.0</td>\n",
       "      <td>0.1876</td>\n",
       "    </tr>\n",
       "    <tr>\n",
       "      <th>2005-01-04</th>\n",
       "      <td>SBIN</td>\n",
       "      <td>EQ</td>\n",
       "      <td>655.75</td>\n",
       "      <td>658.85</td>\n",
       "      <td>658.90</td>\n",
       "      <td>646.15</td>\n",
       "      <td>651.00</td>\n",
       "      <td>649.90</td>\n",
       "      <td>651.35</td>\n",
       "      <td>2472630</td>\n",
       "      <td>1.610536e+14</td>\n",
       "      <td>NaN</td>\n",
       "      <td>274312.0</td>\n",
       "      <td>0.1109</td>\n",
       "    </tr>\n",
       "    <tr>\n",
       "      <th>2005-01-05</th>\n",
       "      <td>SBIN</td>\n",
       "      <td>EQ</td>\n",
       "      <td>649.90</td>\n",
       "      <td>649.95</td>\n",
       "      <td>655.80</td>\n",
       "      <td>591.00</td>\n",
       "      <td>615.80</td>\n",
       "      <td>617.45</td>\n",
       "      <td>625.10</td>\n",
       "      <td>4919738</td>\n",
       "      <td>3.075329e+14</td>\n",
       "      <td>NaN</td>\n",
       "      <td>592714.0</td>\n",
       "      <td>0.1205</td>\n",
       "    </tr>\n",
       "    <tr>\n",
       "      <th>2005-01-06</th>\n",
       "      <td>SBIN</td>\n",
       "      <td>EQ</td>\n",
       "      <td>617.45</td>\n",
       "      <td>615.25</td>\n",
       "      <td>628.90</td>\n",
       "      <td>596.15</td>\n",
       "      <td>604.00</td>\n",
       "      <td>604.30</td>\n",
       "      <td>612.49</td>\n",
       "      <td>4502406</td>\n",
       "      <td>2.757690e+14</td>\n",
       "      <td>NaN</td>\n",
       "      <td>293856.0</td>\n",
       "      <td>0.0653</td>\n",
       "    </tr>\n",
       "    <tr>\n",
       "      <th>2005-01-07</th>\n",
       "      <td>SBIN</td>\n",
       "      <td>EQ</td>\n",
       "      <td>604.30</td>\n",
       "      <td>609.40</td>\n",
       "      <td>619.95</td>\n",
       "      <td>605.25</td>\n",
       "      <td>615.90</td>\n",
       "      <td>615.65</td>\n",
       "      <td>613.27</td>\n",
       "      <td>2923563</td>\n",
       "      <td>1.792921e+14</td>\n",
       "      <td>NaN</td>\n",
       "      <td>176542.0</td>\n",
       "      <td>0.0604</td>\n",
       "    </tr>\n",
       "    <tr>\n",
       "      <th>...</th>\n",
       "      <td>...</td>\n",
       "      <td>...</td>\n",
       "      <td>...</td>\n",
       "      <td>...</td>\n",
       "      <td>...</td>\n",
       "      <td>...</td>\n",
       "      <td>...</td>\n",
       "      <td>...</td>\n",
       "      <td>...</td>\n",
       "      <td>...</td>\n",
       "      <td>...</td>\n",
       "      <td>...</td>\n",
       "      <td>...</td>\n",
       "      <td>...</td>\n",
       "    </tr>\n",
       "    <tr>\n",
       "      <th>2022-12-29</th>\n",
       "      <td>SBIN</td>\n",
       "      <td>EQ</td>\n",
       "      <td>601.05</td>\n",
       "      <td>600.00</td>\n",
       "      <td>618.00</td>\n",
       "      <td>597.15</td>\n",
       "      <td>614.05</td>\n",
       "      <td>611.80</td>\n",
       "      <td>608.16</td>\n",
       "      <td>20130392</td>\n",
       "      <td>1.224252e+15</td>\n",
       "      <td>168187.0</td>\n",
       "      <td>11439937.0</td>\n",
       "      <td>0.5683</td>\n",
       "    </tr>\n",
       "    <tr>\n",
       "      <th>2022-12-30</th>\n",
       "      <td>SBIN</td>\n",
       "      <td>EQ</td>\n",
       "      <td>611.80</td>\n",
       "      <td>615.25</td>\n",
       "      <td>620.55</td>\n",
       "      <td>611.35</td>\n",
       "      <td>614.25</td>\n",
       "      <td>613.70</td>\n",
       "      <td>615.43</td>\n",
       "      <td>13052895</td>\n",
       "      <td>8.033100e+14</td>\n",
       "      <td>158347.0</td>\n",
       "      <td>6160516.0</td>\n",
       "      <td>0.4720</td>\n",
       "    </tr>\n",
       "    <tr>\n",
       "      <th>2023-01-02</th>\n",
       "      <td>SBIN</td>\n",
       "      <td>EQ</td>\n",
       "      <td>613.70</td>\n",
       "      <td>614.95</td>\n",
       "      <td>619.20</td>\n",
       "      <td>611.20</td>\n",
       "      <td>612.60</td>\n",
       "      <td>612.20</td>\n",
       "      <td>614.42</td>\n",
       "      <td>6726084</td>\n",
       "      <td>4.132615e+14</td>\n",
       "      <td>125418.0</td>\n",
       "      <td>2430000.0</td>\n",
       "      <td>0.3613</td>\n",
       "    </tr>\n",
       "    <tr>\n",
       "      <th>2023-01-03</th>\n",
       "      <td>SBIN</td>\n",
       "      <td>EQ</td>\n",
       "      <td>612.20</td>\n",
       "      <td>614.50</td>\n",
       "      <td>616.60</td>\n",
       "      <td>610.00</td>\n",
       "      <td>612.95</td>\n",
       "      <td>612.40</td>\n",
       "      <td>613.26</td>\n",
       "      <td>6818062</td>\n",
       "      <td>4.181258e+14</td>\n",
       "      <td>122799.0</td>\n",
       "      <td>2451217.0</td>\n",
       "      <td>0.3595</td>\n",
       "    </tr>\n",
       "    <tr>\n",
       "      <th>2023-01-04</th>\n",
       "      <td>SBIN</td>\n",
       "      <td>EQ</td>\n",
       "      <td>612.40</td>\n",
       "      <td>611.85</td>\n",
       "      <td>614.95</td>\n",
       "      <td>604.00</td>\n",
       "      <td>605.60</td>\n",
       "      <td>605.20</td>\n",
       "      <td>607.74</td>\n",
       "      <td>7011191</td>\n",
       "      <td>4.260969e+14</td>\n",
       "      <td>113548.0</td>\n",
       "      <td>2922723.0</td>\n",
       "      <td>0.4169</td>\n",
       "    </tr>\n",
       "  </tbody>\n",
       "</table>\n",
       "<p>4471 rows × 14 columns</p>\n",
       "</div>\n",
       "      <button class=\"colab-df-convert\" onclick=\"convertToInteractive('df-d6dac125-3c9b-43ca-af0f-2743b65b7466')\"\n",
       "              title=\"Convert this dataframe to an interactive table.\"\n",
       "              style=\"display:none;\">\n",
       "        \n",
       "  <svg xmlns=\"http://www.w3.org/2000/svg\" height=\"24px\"viewBox=\"0 0 24 24\"\n",
       "       width=\"24px\">\n",
       "    <path d=\"M0 0h24v24H0V0z\" fill=\"none\"/>\n",
       "    <path d=\"M18.56 5.44l.94 2.06.94-2.06 2.06-.94-2.06-.94-.94-2.06-.94 2.06-2.06.94zm-11 1L8.5 8.5l.94-2.06 2.06-.94-2.06-.94L8.5 2.5l-.94 2.06-2.06.94zm10 10l.94 2.06.94-2.06 2.06-.94-2.06-.94-.94-2.06-.94 2.06-2.06.94z\"/><path d=\"M17.41 7.96l-1.37-1.37c-.4-.4-.92-.59-1.43-.59-.52 0-1.04.2-1.43.59L10.3 9.45l-7.72 7.72c-.78.78-.78 2.05 0 2.83L4 21.41c.39.39.9.59 1.41.59.51 0 1.02-.2 1.41-.59l7.78-7.78 2.81-2.81c.8-.78.8-2.07 0-2.86zM5.41 20L4 18.59l7.72-7.72 1.47 1.35L5.41 20z\"/>\n",
       "  </svg>\n",
       "      </button>\n",
       "      \n",
       "  <style>\n",
       "    .colab-df-container {\n",
       "      display:flex;\n",
       "      flex-wrap:wrap;\n",
       "      gap: 12px;\n",
       "    }\n",
       "\n",
       "    .colab-df-convert {\n",
       "      background-color: #E8F0FE;\n",
       "      border: none;\n",
       "      border-radius: 50%;\n",
       "      cursor: pointer;\n",
       "      display: none;\n",
       "      fill: #1967D2;\n",
       "      height: 32px;\n",
       "      padding: 0 0 0 0;\n",
       "      width: 32px;\n",
       "    }\n",
       "\n",
       "    .colab-df-convert:hover {\n",
       "      background-color: #E2EBFA;\n",
       "      box-shadow: 0px 1px 2px rgba(60, 64, 67, 0.3), 0px 1px 3px 1px rgba(60, 64, 67, 0.15);\n",
       "      fill: #174EA6;\n",
       "    }\n",
       "\n",
       "    [theme=dark] .colab-df-convert {\n",
       "      background-color: #3B4455;\n",
       "      fill: #D2E3FC;\n",
       "    }\n",
       "\n",
       "    [theme=dark] .colab-df-convert:hover {\n",
       "      background-color: #434B5C;\n",
       "      box-shadow: 0px 1px 3px 1px rgba(0, 0, 0, 0.15);\n",
       "      filter: drop-shadow(0px 1px 2px rgba(0, 0, 0, 0.3));\n",
       "      fill: #FFFFFF;\n",
       "    }\n",
       "  </style>\n",
       "\n",
       "      <script>\n",
       "        const buttonEl =\n",
       "          document.querySelector('#df-d6dac125-3c9b-43ca-af0f-2743b65b7466 button.colab-df-convert');\n",
       "        buttonEl.style.display =\n",
       "          google.colab.kernel.accessAllowed ? 'block' : 'none';\n",
       "\n",
       "        async function convertToInteractive(key) {\n",
       "          const element = document.querySelector('#df-d6dac125-3c9b-43ca-af0f-2743b65b7466');\n",
       "          const dataTable =\n",
       "            await google.colab.kernel.invokeFunction('convertToInteractive',\n",
       "                                                     [key], {});\n",
       "          if (!dataTable) return;\n",
       "\n",
       "          const docLinkHtml = 'Like what you see? Visit the ' +\n",
       "            '<a target=\"_blank\" href=https://colab.research.google.com/notebooks/data_table.ipynb>data table notebook</a>'\n",
       "            + ' to learn more about interactive tables.';\n",
       "          element.innerHTML = '';\n",
       "          dataTable['output_type'] = 'display_data';\n",
       "          await google.colab.output.renderOutput(dataTable, element);\n",
       "          const docLink = document.createElement('div');\n",
       "          docLink.innerHTML = docLinkHtml;\n",
       "          element.appendChild(docLink);\n",
       "        }\n",
       "      </script>\n",
       "    </div>\n",
       "  </div>\n",
       "  "
      ],
      "text/plain": [
       "           Symbol Series  Prev Close    Open    High     Low    Last   Close  \\\n",
       "Date                                                                           \n",
       "2005-01-03   SBIN     EQ      652.00  654.50  662.90  650.10  657.00  655.75   \n",
       "2005-01-04   SBIN     EQ      655.75  658.85  658.90  646.15  651.00  649.90   \n",
       "2005-01-05   SBIN     EQ      649.90  649.95  655.80  591.00  615.80  617.45   \n",
       "2005-01-06   SBIN     EQ      617.45  615.25  628.90  596.15  604.00  604.30   \n",
       "2005-01-07   SBIN     EQ      604.30  609.40  619.95  605.25  615.90  615.65   \n",
       "...           ...    ...         ...     ...     ...     ...     ...     ...   \n",
       "2022-12-29   SBIN     EQ      601.05  600.00  618.00  597.15  614.05  611.80   \n",
       "2022-12-30   SBIN     EQ      611.80  615.25  620.55  611.35  614.25  613.70   \n",
       "2023-01-02   SBIN     EQ      613.70  614.95  619.20  611.20  612.60  612.20   \n",
       "2023-01-03   SBIN     EQ      612.20  614.50  616.60  610.00  612.95  612.40   \n",
       "2023-01-04   SBIN     EQ      612.40  611.85  614.95  604.00  605.60  605.20   \n",
       "\n",
       "              VWAP    Volume      Turnover    Trades  Deliverable Volume  \\\n",
       "Date                                                                       \n",
       "2005-01-03  656.76   2131452  1.399851e+14       NaN            399911.0   \n",
       "2005-01-04  651.35   2472630  1.610536e+14       NaN            274312.0   \n",
       "2005-01-05  625.10   4919738  3.075329e+14       NaN            592714.0   \n",
       "2005-01-06  612.49   4502406  2.757690e+14       NaN            293856.0   \n",
       "2005-01-07  613.27   2923563  1.792921e+14       NaN            176542.0   \n",
       "...            ...       ...           ...       ...                 ...   \n",
       "2022-12-29  608.16  20130392  1.224252e+15  168187.0          11439937.0   \n",
       "2022-12-30  615.43  13052895  8.033100e+14  158347.0           6160516.0   \n",
       "2023-01-02  614.42   6726084  4.132615e+14  125418.0           2430000.0   \n",
       "2023-01-03  613.26   6818062  4.181258e+14  122799.0           2451217.0   \n",
       "2023-01-04  607.74   7011191  4.260969e+14  113548.0           2922723.0   \n",
       "\n",
       "            %Deliverble  \n",
       "Date                     \n",
       "2005-01-03       0.1876  \n",
       "2005-01-04       0.1109  \n",
       "2005-01-05       0.1205  \n",
       "2005-01-06       0.0653  \n",
       "2005-01-07       0.0604  \n",
       "...                 ...  \n",
       "2022-12-29       0.5683  \n",
       "2022-12-30       0.4720  \n",
       "2023-01-02       0.3613  \n",
       "2023-01-03       0.3595  \n",
       "2023-01-04       0.4169  \n",
       "\n",
       "[4471 rows x 14 columns]"
      ]
     },
     "execution_count": 33,
     "metadata": {},
     "output_type": "execute_result"
    }
   ],
   "source": [
    " "
   ]
  },
  {
   "cell_type": "code",
   "execution_count": 49,
   "metadata": {
    "id": "zfKMZp3Lm48V"
   },
   "outputs": [],
   "source": [
    "new_data = data.reset_index()\n",
    "new_data = new_data.drop([i for i in data.columns if i not in ['High','Close','Low','Open','Volume']],axis=1)\n",
    "new_data.drop('Date',axis=1,inplace=True)\n"
   ]
  },
  {
   "cell_type": "code",
   "execution_count": 50,
   "metadata": {
    "colab": {
     "base_uri": "https://localhost:8080/",
     "height": 423
    },
    "id": "2WKWYjG5nMZ-",
    "outputId": "9bbf3037-fa95-491f-e94f-03e6174c21d6"
   },
   "outputs": [
    {
     "data": {
      "text/html": [
       "\n",
       "  <div id=\"df-c0ded67b-e8e1-469d-99b3-b93f05b927c1\">\n",
       "    <div class=\"colab-df-container\">\n",
       "      <div>\n",
       "<style scoped>\n",
       "    .dataframe tbody tr th:only-of-type {\n",
       "        vertical-align: middle;\n",
       "    }\n",
       "\n",
       "    .dataframe tbody tr th {\n",
       "        vertical-align: top;\n",
       "    }\n",
       "\n",
       "    .dataframe thead th {\n",
       "        text-align: right;\n",
       "    }\n",
       "</style>\n",
       "<table border=\"1\" class=\"dataframe\">\n",
       "  <thead>\n",
       "    <tr style=\"text-align: right;\">\n",
       "      <th></th>\n",
       "      <th>Open</th>\n",
       "      <th>High</th>\n",
       "      <th>Low</th>\n",
       "      <th>Close</th>\n",
       "      <th>Volume</th>\n",
       "    </tr>\n",
       "  </thead>\n",
       "  <tbody>\n",
       "    <tr>\n",
       "      <th>0</th>\n",
       "      <td>654.50</td>\n",
       "      <td>662.90</td>\n",
       "      <td>650.10</td>\n",
       "      <td>655.75</td>\n",
       "      <td>2131452</td>\n",
       "    </tr>\n",
       "    <tr>\n",
       "      <th>1</th>\n",
       "      <td>658.85</td>\n",
       "      <td>658.90</td>\n",
       "      <td>646.15</td>\n",
       "      <td>649.90</td>\n",
       "      <td>2472630</td>\n",
       "    </tr>\n",
       "    <tr>\n",
       "      <th>2</th>\n",
       "      <td>649.95</td>\n",
       "      <td>655.80</td>\n",
       "      <td>591.00</td>\n",
       "      <td>617.45</td>\n",
       "      <td>4919738</td>\n",
       "    </tr>\n",
       "    <tr>\n",
       "      <th>3</th>\n",
       "      <td>615.25</td>\n",
       "      <td>628.90</td>\n",
       "      <td>596.15</td>\n",
       "      <td>604.30</td>\n",
       "      <td>4502406</td>\n",
       "    </tr>\n",
       "    <tr>\n",
       "      <th>4</th>\n",
       "      <td>609.40</td>\n",
       "      <td>619.95</td>\n",
       "      <td>605.25</td>\n",
       "      <td>615.65</td>\n",
       "      <td>2923563</td>\n",
       "    </tr>\n",
       "    <tr>\n",
       "      <th>...</th>\n",
       "      <td>...</td>\n",
       "      <td>...</td>\n",
       "      <td>...</td>\n",
       "      <td>...</td>\n",
       "      <td>...</td>\n",
       "    </tr>\n",
       "    <tr>\n",
       "      <th>4466</th>\n",
       "      <td>600.00</td>\n",
       "      <td>618.00</td>\n",
       "      <td>597.15</td>\n",
       "      <td>611.80</td>\n",
       "      <td>20130392</td>\n",
       "    </tr>\n",
       "    <tr>\n",
       "      <th>4467</th>\n",
       "      <td>615.25</td>\n",
       "      <td>620.55</td>\n",
       "      <td>611.35</td>\n",
       "      <td>613.70</td>\n",
       "      <td>13052895</td>\n",
       "    </tr>\n",
       "    <tr>\n",
       "      <th>4468</th>\n",
       "      <td>614.95</td>\n",
       "      <td>619.20</td>\n",
       "      <td>611.20</td>\n",
       "      <td>612.20</td>\n",
       "      <td>6726084</td>\n",
       "    </tr>\n",
       "    <tr>\n",
       "      <th>4469</th>\n",
       "      <td>614.50</td>\n",
       "      <td>616.60</td>\n",
       "      <td>610.00</td>\n",
       "      <td>612.40</td>\n",
       "      <td>6818062</td>\n",
       "    </tr>\n",
       "    <tr>\n",
       "      <th>4470</th>\n",
       "      <td>611.85</td>\n",
       "      <td>614.95</td>\n",
       "      <td>604.00</td>\n",
       "      <td>605.20</td>\n",
       "      <td>7011191</td>\n",
       "    </tr>\n",
       "  </tbody>\n",
       "</table>\n",
       "<p>4471 rows × 5 columns</p>\n",
       "</div>\n",
       "      <button class=\"colab-df-convert\" onclick=\"convertToInteractive('df-c0ded67b-e8e1-469d-99b3-b93f05b927c1')\"\n",
       "              title=\"Convert this dataframe to an interactive table.\"\n",
       "              style=\"display:none;\">\n",
       "        \n",
       "  <svg xmlns=\"http://www.w3.org/2000/svg\" height=\"24px\"viewBox=\"0 0 24 24\"\n",
       "       width=\"24px\">\n",
       "    <path d=\"M0 0h24v24H0V0z\" fill=\"none\"/>\n",
       "    <path d=\"M18.56 5.44l.94 2.06.94-2.06 2.06-.94-2.06-.94-.94-2.06-.94 2.06-2.06.94zm-11 1L8.5 8.5l.94-2.06 2.06-.94-2.06-.94L8.5 2.5l-.94 2.06-2.06.94zm10 10l.94 2.06.94-2.06 2.06-.94-2.06-.94-.94-2.06-.94 2.06-2.06.94z\"/><path d=\"M17.41 7.96l-1.37-1.37c-.4-.4-.92-.59-1.43-.59-.52 0-1.04.2-1.43.59L10.3 9.45l-7.72 7.72c-.78.78-.78 2.05 0 2.83L4 21.41c.39.39.9.59 1.41.59.51 0 1.02-.2 1.41-.59l7.78-7.78 2.81-2.81c.8-.78.8-2.07 0-2.86zM5.41 20L4 18.59l7.72-7.72 1.47 1.35L5.41 20z\"/>\n",
       "  </svg>\n",
       "      </button>\n",
       "      \n",
       "  <style>\n",
       "    .colab-df-container {\n",
       "      display:flex;\n",
       "      flex-wrap:wrap;\n",
       "      gap: 12px;\n",
       "    }\n",
       "\n",
       "    .colab-df-convert {\n",
       "      background-color: #E8F0FE;\n",
       "      border: none;\n",
       "      border-radius: 50%;\n",
       "      cursor: pointer;\n",
       "      display: none;\n",
       "      fill: #1967D2;\n",
       "      height: 32px;\n",
       "      padding: 0 0 0 0;\n",
       "      width: 32px;\n",
       "    }\n",
       "\n",
       "    .colab-df-convert:hover {\n",
       "      background-color: #E2EBFA;\n",
       "      box-shadow: 0px 1px 2px rgba(60, 64, 67, 0.3), 0px 1px 3px 1px rgba(60, 64, 67, 0.15);\n",
       "      fill: #174EA6;\n",
       "    }\n",
       "\n",
       "    [theme=dark] .colab-df-convert {\n",
       "      background-color: #3B4455;\n",
       "      fill: #D2E3FC;\n",
       "    }\n",
       "\n",
       "    [theme=dark] .colab-df-convert:hover {\n",
       "      background-color: #434B5C;\n",
       "      box-shadow: 0px 1px 3px 1px rgba(0, 0, 0, 0.15);\n",
       "      filter: drop-shadow(0px 1px 2px rgba(0, 0, 0, 0.3));\n",
       "      fill: #FFFFFF;\n",
       "    }\n",
       "  </style>\n",
       "\n",
       "      <script>\n",
       "        const buttonEl =\n",
       "          document.querySelector('#df-c0ded67b-e8e1-469d-99b3-b93f05b927c1 button.colab-df-convert');\n",
       "        buttonEl.style.display =\n",
       "          google.colab.kernel.accessAllowed ? 'block' : 'none';\n",
       "\n",
       "        async function convertToInteractive(key) {\n",
       "          const element = document.querySelector('#df-c0ded67b-e8e1-469d-99b3-b93f05b927c1');\n",
       "          const dataTable =\n",
       "            await google.colab.kernel.invokeFunction('convertToInteractive',\n",
       "                                                     [key], {});\n",
       "          if (!dataTable) return;\n",
       "\n",
       "          const docLinkHtml = 'Like what you see? Visit the ' +\n",
       "            '<a target=\"_blank\" href=https://colab.research.google.com/notebooks/data_table.ipynb>data table notebook</a>'\n",
       "            + ' to learn more about interactive tables.';\n",
       "          element.innerHTML = '';\n",
       "          dataTable['output_type'] = 'display_data';\n",
       "          await google.colab.output.renderOutput(dataTable, element);\n",
       "          const docLink = document.createElement('div');\n",
       "          docLink.innerHTML = docLinkHtml;\n",
       "          element.appendChild(docLink);\n",
       "        }\n",
       "      </script>\n",
       "    </div>\n",
       "  </div>\n",
       "  "
      ],
      "text/plain": [
       "        Open    High     Low   Close    Volume\n",
       "0     654.50  662.90  650.10  655.75   2131452\n",
       "1     658.85  658.90  646.15  649.90   2472630\n",
       "2     649.95  655.80  591.00  617.45   4919738\n",
       "3     615.25  628.90  596.15  604.30   4502406\n",
       "4     609.40  619.95  605.25  615.65   2923563\n",
       "...      ...     ...     ...     ...       ...\n",
       "4466  600.00  618.00  597.15  611.80  20130392\n",
       "4467  615.25  620.55  611.35  613.70  13052895\n",
       "4468  614.95  619.20  611.20  612.20   6726084\n",
       "4469  614.50  616.60  610.00  612.40   6818062\n",
       "4470  611.85  614.95  604.00  605.20   7011191\n",
       "\n",
       "[4471 rows x 5 columns]"
      ]
     },
     "execution_count": 50,
     "metadata": {},
     "output_type": "execute_result"
    }
   ],
   "source": [
    "new_data"
   ]
  },
  {
   "cell_type": "code",
   "execution_count": 53,
   "metadata": {
    "id": "K6Kudm1RnN6V"
   },
   "outputs": [],
   "source": [
    "ma100 = new_data.Close.rolling(100).mean()\n",
    "ma200 = new_data.Close.rolling(200).mean()"
   ]
  },
  {
   "cell_type": "code",
   "execution_count": 58,
   "metadata": {
    "colab": {
     "base_uri": "https://localhost:8080/",
     "height": 391
    },
    "id": "WjNJqaWvog2y",
    "outputId": "7765ecf5-9925-4d05-d140-fca861ca3374"
   },
   "outputs": [
    {
     "data": {
      "text/plain": [
       "[<matplotlib.lines.Line2D at 0x7fc2ef1b4e50>]"
      ]
     },
     "execution_count": 58,
     "metadata": {},
     "output_type": "execute_result"
    },
    {
     "data": {
      "image/png": "[encoded data removed]",
      "text/plain": [
       "<Figure size 864x432 with 1 Axes>"
      ]
     },
     "metadata": {
      "needs_background": "light"
     },
     "output_type": "display_data"
    }
   ],
   "source": [
    "plt.figure(figsize=(12,6))\n",
    "plt.plot(new_data.Close)\n",
    "plt.plot(ma100,'g')\n",
    "plt.plot(ma200,'r')"
   ]
  },
  {
   "cell_type": "code",
   "execution_count": 60,
   "metadata": {
    "id": "Aj3kTEyxtM8d"
   },
   "outputs": [],
   "source": [
    "# Splitting data \n",
    "data_training = pd.DataFrame(new_data['Close'][0:int(len(new_data)*0.70)])\n",
    "data_testing = pd.DataFrame(new_data['Close'][int(len(new_data)*0.70):int(len(new_data))])"
   ]
  },
  {
   "cell_type": "code",
   "execution_count": 69,
   "metadata": {
    "id": "7ws_O4CFvbs2"
   },
   "outputs": [],
   "source": [
    "from sklearn.preprocessing import MinMaxScaler\n",
    "scaler = MinMaxScaler(feature_range=(0,1))"
   ]
  },
  {
   "cell_type": "code",
   "execution_count": 70,
   "metadata": {
    "id": "BLdFKVRivihc"
   },
   "outputs": [],
   "source": [
    "data_training_array = scaler.fit_transform(data_training)"
   ]
  },
  {
   "cell_type": "code",
   "execution_count": 71,
   "metadata": {
    "id": "hnfxEbuZ82c4"
   },
   "outputs": [],
   "source": [
    "x_train = []\n",
    "y_train = []\n",
    "\n",
    "for i in range(100,data_training_array.shape[0]):\n",
    "  x_train.append(data_training_array[i-100:i])\n",
    "  y_train.append(data_training_array[i,0]) \n",
    "\n",
    "x_train, y_train = np.array(x_train),np.array(y_train)"
   ]
  },
  {
   "cell_type": "code",
   "execution_count": 72,
   "metadata": {
    "id": "gQVKmarbB-9p"
   },
   "outputs": [],
   "source": [
    "# ML model\n"
   ]
  },
  {
   "cell_type": "code",
   "execution_count": 73,
   "metadata": {
    "id": "UCASnKCvCC5w"
   },
   "outputs": [],
   "source": [
    "from keras.layers import Dense, Dropout, LSTM \n",
    "from keras.models import Sequential"
   ]
  },
  {
   "cell_type": "code",
   "execution_count": 74,
   "metadata": {
    "id": "NuVvCDqHCPEZ"
   },
   "outputs": [],
   "source": [
    "model = Sequential()\n",
    "model.add(LSTM(units=50,activation = 'relu',return_sequences = True, input_shape = (x_train.shape[1],1)))\n",
    "model.add(Dropout(0.2))\n",
    "\n",
    "model.add(LSTM(units=60,activation = 'relu',return_sequences = True))\n",
    "model.add(Dropout(0.3))\n",
    "\n",
    "model.add(LSTM(units=80,activation = 'relu',return_sequences = True))\n",
    "model.add(Dropout(0.4))\n",
    "\n",
    "model.add(LSTM(units=120,activation = 'relu'))\n",
    "model.add(Dropout(0.5))\n",
    "\n",
    "model.add(Dense(units=1))\n",
    "\n"
   ]
  },
  {
   "cell_type": "code",
   "execution_count": 76,
   "metadata": {
    "colab": {
     "base_uri": "https://localhost:8080/"
    },
    "id": "mp2mTpkjD42S",
    "outputId": "1090d5d9-e31d-4d81-ae94-a5a68049e9ea"
   },
   "outputs": [
    {
     "name": "stdout",
     "output_type": "stream",
     "text": [
      "Model: \"sequential\"\n",
      "_________________________________________________________________\n",
      " Layer (type)                Output Shape              Param #   \n",
      "=================================================================\n",
      " lstm (LSTM)                 (None, 100, 50)           10400     \n",
      "                                                                 \n",
      " dropout (Dropout)           (None, 100, 50)           0         \n",
      "                                                                 \n",
      " lstm_1 (LSTM)               (None, 100, 60)           26640     \n",
      "                                                                 \n",
      " dropout_1 (Dropout)         (None, 100, 60)           0         \n",
      "                                                                 \n",
      " lstm_2 (LSTM)               (None, 100, 80)           45120     \n",
      "                                                                 \n",
      " dropout_2 (Dropout)         (None, 100, 80)           0         \n",
      "                                                                 \n",
      " lstm_3 (LSTM)               (None, 120)               96480     \n",
      "                                                                 \n",
      " dropout_3 (Dropout)         (None, 120)               0         \n",
      "                                                                 \n",
      " dense (Dense)               (None, 1)                 121       \n",
      "                                                                 \n",
      "=================================================================\n",
      "Total params: 178,761\n",
      "Trainable params: 178,761\n",
      "Non-trainable params: 0\n",
      "_________________________________________________________________\n"
     ]
    }
   ],
   "source": [
    "model.summary()"
   ]
  },
  {
   "cell_type": "code",
   "execution_count": 78,
   "metadata": {
    "colab": {
     "base_uri": "https://localhost:8080/"
    },
    "id": "VnWBRabdD7TV",
    "outputId": "5f1fe2d5-5c4a-4c89-8381-cd5a60e54739"
   },
   "outputs": [
    {
     "name": "stdout",
     "output_type": "stream",
     "text": [
      "Epoch 1/50\n",
      "95/95 [==============================] - 40s 363ms/step - loss: 0.0302\n",
      "Epoch 2/50\n",
      "95/95 [==============================] - 32s 340ms/step - loss: 0.0098\n",
      "Epoch 3/50\n",
      "95/95 [==============================] - 30s 316ms/step - loss: 0.0076\n",
      "Epoch 4/50\n",
      "95/95 [==============================] - 30s 314ms/step - loss: 0.0067\n",
      "Epoch 5/50\n",
      "95/95 [==============================] - 30s 315ms/step - loss: 0.0061\n",
      "Epoch 6/50\n",
      "95/95 [==============================] - 30s 313ms/step - loss: 0.0056\n",
      "Epoch 7/50\n",
      "95/95 [==============================] - 34s 359ms/step - loss: 0.0054\n",
      "Epoch 8/50\n",
      "95/95 [==============================] - 32s 335ms/step - loss: 0.0051\n",
      "Epoch 9/50\n",
      "95/95 [==============================] - 30s 315ms/step - loss: 0.0046\n",
      "Epoch 10/50\n",
      "95/95 [==============================] - 30s 314ms/step - loss: 0.0049\n",
      "Epoch 11/50\n",
      "95/95 [==============================] - 30s 315ms/step - loss: 0.0044\n",
      "Epoch 12/50\n",
      "95/95 [==============================] - 30s 313ms/step - loss: 0.0043\n",
      "Epoch 13/50\n",
      "95/95 [==============================] - 33s 344ms/step - loss: 0.0037\n",
      "Epoch 14/50\n",
      "95/95 [==============================] - 33s 349ms/step - loss: 0.0041\n",
      "Epoch 15/50\n",
      "95/95 [==============================] - 30s 313ms/step - loss: 0.0038\n",
      "Epoch 16/50\n",
      "95/95 [==============================] - 30s 312ms/step - loss: 0.0038\n",
      "Epoch 17/50\n",
      "95/95 [==============================] - 30s 314ms/step - loss: 0.0034\n",
      "Epoch 18/50\n",
      "95/95 [==============================] - 30s 312ms/step - loss: 0.0033\n",
      "Epoch 19/50\n",
      "95/95 [==============================] - 32s 334ms/step - loss: 0.0032\n",
      "Epoch 20/50\n",
      "95/95 [==============================] - 34s 354ms/step - loss: 0.0031\n",
      "Epoch 21/50\n",
      "95/95 [==============================] - 30s 311ms/step - loss: 0.0028\n",
      "Epoch 22/50\n",
      "95/95 [==============================] - 30s 311ms/step - loss: 0.0029\n",
      "Epoch 23/50\n",
      "95/95 [==============================] - 29s 310ms/step - loss: 0.0028\n",
      "Epoch 24/50\n",
      "95/95 [==============================] - 29s 310ms/step - loss: 0.0027\n",
      "Epoch 25/50\n",
      "95/95 [==============================] - 30s 310ms/step - loss: 0.0028\n",
      "Epoch 26/50\n",
      "95/95 [==============================] - 34s 354ms/step - loss: 0.0031\n",
      "Epoch 27/50\n",
      "95/95 [==============================] - 32s 335ms/step - loss: 0.0027\n",
      "Epoch 28/50\n",
      "95/95 [==============================] - 30s 311ms/step - loss: 0.0025\n",
      "Epoch 29/50\n",
      "95/95 [==============================] - 29s 310ms/step - loss: 0.0025\n",
      "Epoch 30/50\n",
      "95/95 [==============================] - 29s 309ms/step - loss: 0.0026\n",
      "Epoch 31/50\n",
      "95/95 [==============================] - 29s 310ms/step - loss: 0.0026\n",
      "Epoch 32/50\n",
      "95/95 [==============================] - 33s 347ms/step - loss: 0.0026\n",
      "Epoch 33/50\n",
      "95/95 [==============================] - 32s 339ms/step - loss: 0.0026\n",
      "Epoch 34/50\n",
      "95/95 [==============================] - 29s 309ms/step - loss: 0.0026\n",
      "Epoch 35/50\n",
      "95/95 [==============================] - 30s 311ms/step - loss: 0.0025\n",
      "Epoch 36/50\n",
      "95/95 [==============================] - 30s 310ms/step - loss: 0.0025\n",
      "Epoch 37/50\n",
      "95/95 [==============================] - 30s 312ms/step - loss: 0.0025\n",
      "Epoch 38/50\n",
      "95/95 [==============================] - 32s 332ms/step - loss: 0.0024\n",
      "Epoch 39/50\n",
      "95/95 [==============================] - 34s 354ms/step - loss: 0.0025\n",
      "Epoch 40/50\n",
      "95/95 [==============================] - 30s 312ms/step - loss: 0.0024\n",
      "Epoch 41/50\n",
      "95/95 [==============================] - 30s 311ms/step - loss: 0.0025\n",
      "Epoch 42/50\n",
      "95/95 [==============================] - 30s 313ms/step - loss: 0.0024\n",
      "Epoch 43/50\n",
      "95/95 [==============================] - 30s 314ms/step - loss: 0.0023\n",
      "Epoch 44/50\n",
      "95/95 [==============================] - 32s 336ms/step - loss: 0.0023\n",
      "Epoch 45/50\n",
      "95/95 [==============================] - 34s 354ms/step - loss: 0.0023\n",
      "Epoch 46/50\n",
      "95/95 [==============================] - 30s 315ms/step - loss: 0.0024\n",
      "Epoch 47/50\n",
      "95/95 [==============================] - 30s 320ms/step - loss: 0.0023\n",
      "Epoch 48/50\n",
      "95/95 [==============================] - 30s 313ms/step - loss: 0.0022\n",
      "Epoch 49/50\n",
      "95/95 [==============================] - 30s 312ms/step - loss: 0.0023\n",
      "Epoch 50/50\n",
      "95/95 [==============================] - 32s 338ms/step - loss: 0.0023\n"
     ]
    },
    {
     "data": {
      "text/plain": [
       "<keras.callbacks.History at 0x7fc320692430>"
      ]
     },
     "execution_count": 78,
     "metadata": {},
     "output_type": "execute_result"
    }
   ],
   "source": [
    "model.compile(optimizer='adam', loss = 'mean_squared_error')\n",
    "model.fit(x_train,y_train,epochs=50)"
   ]
  },
  {
   "cell_type": "code",
   "execution_count": 79,
   "metadata": {
    "id": "r5IkHlRbEOXJ"
   },
   "outputs": [],
   "source": [
    "model.save('Model.h5')"
   ]
  },
  {
   "cell_type": "code",
   "execution_count": 80,
   "metadata": {
    "id": "P-vhqrV2Mz9C"
   },
   "outputs": [],
   "source": [
    "past_100_days = data_training.tail(100)"
   ]
  },
  {
   "cell_type": "code",
   "execution_count": 81,
   "metadata": {
    "colab": {
     "base_uri": "https://localhost:8080/"
    },
    "id": "hl55_MkdNZsm",
    "outputId": "ede9e92e-9b61-43cd-8796-1f3aa78ec9ea"
   },
   "outputs": [
    {
     "name": "stderr",
     "output_type": "stream",
     "text": [
      "<ipython-input-81-3d73f627d12d>:1: FutureWarning: The frame.append method is deprecated and will be removed from pandas in a future version. Use pandas.concat instead.\n",
      "  final_df = past_100_days.append(data_testing,ignore_index= True)\n"
     ]
    }
   ],
   "source": [
    "final_df = past_100_days.append(data_testing,ignore_index= True)"
   ]
  },
  {
   "cell_type": "code",
   "execution_count": 82,
   "metadata": {
    "colab": {
     "base_uri": "https://localhost:8080/",
     "height": 423
    },
    "id": "5Y_cXN8pNwPu",
    "outputId": "6982b3e6-ec34-4f33-c4c5-8c244bdc9ad8"
   },
   "outputs": [
    {
     "data": {
      "text/html": [
       "\n",
       "  <div id=\"df-f372f5cd-7909-4ae7-a67e-e190423dd9e1\">\n",
       "    <div class=\"colab-df-container\">\n",
       "      <div>\n",
       "<style scoped>\n",
       "    .dataframe tbody tr th:only-of-type {\n",
       "        vertical-align: middle;\n",
       "    }\n",
       "\n",
       "    .dataframe tbody tr th {\n",
       "        vertical-align: top;\n",
       "    }\n",
       "\n",
       "    .dataframe thead th {\n",
       "        text-align: right;\n",
       "    }\n",
       "</style>\n",
       "<table border=\"1\" class=\"dataframe\">\n",
       "  <thead>\n",
       "    <tr style=\"text-align: right;\">\n",
       "      <th></th>\n",
       "      <th>Close</th>\n",
       "    </tr>\n",
       "  </thead>\n",
       "  <tbody>\n",
       "    <tr>\n",
       "      <th>0</th>\n",
       "      <td>274.65</td>\n",
       "    </tr>\n",
       "    <tr>\n",
       "      <th>1</th>\n",
       "      <td>277.35</td>\n",
       "    </tr>\n",
       "    <tr>\n",
       "      <th>2</th>\n",
       "      <td>279.30</td>\n",
       "    </tr>\n",
       "    <tr>\n",
       "      <th>3</th>\n",
       "      <td>274.15</td>\n",
       "    </tr>\n",
       "    <tr>\n",
       "      <th>4</th>\n",
       "      <td>273.90</td>\n",
       "    </tr>\n",
       "    <tr>\n",
       "      <th>...</th>\n",
       "      <td>...</td>\n",
       "    </tr>\n",
       "    <tr>\n",
       "      <th>1437</th>\n",
       "      <td>611.80</td>\n",
       "    </tr>\n",
       "    <tr>\n",
       "      <th>1438</th>\n",
       "      <td>613.70</td>\n",
       "    </tr>\n",
       "    <tr>\n",
       "      <th>1439</th>\n",
       "      <td>612.20</td>\n",
       "    </tr>\n",
       "    <tr>\n",
       "      <th>1440</th>\n",
       "      <td>612.40</td>\n",
       "    </tr>\n",
       "    <tr>\n",
       "      <th>1441</th>\n",
       "      <td>605.20</td>\n",
       "    </tr>\n",
       "  </tbody>\n",
       "</table>\n",
       "<p>1442 rows × 1 columns</p>\n",
       "</div>\n",
       "      <button class=\"colab-df-convert\" onclick=\"convertToInteractive('df-f372f5cd-7909-4ae7-a67e-e190423dd9e1')\"\n",
       "              title=\"Convert this dataframe to an interactive table.\"\n",
       "              style=\"display:none;\">\n",
       "        \n",
       "  <svg xmlns=\"http://www.w3.org/2000/svg\" height=\"24px\"viewBox=\"0 0 24 24\"\n",
       "       width=\"24px\">\n",
       "    <path d=\"M0 0h24v24H0V0z\" fill=\"none\"/>\n",
       "    <path d=\"M18.56 5.44l.94 2.06.94-2.06 2.06-.94-2.06-.94-.94-2.06-.94 2.06-2.06.94zm-11 1L8.5 8.5l.94-2.06 2.06-.94-2.06-.94L8.5 2.5l-.94 2.06-2.06.94zm10 10l.94 2.06.94-2.06 2.06-.94-2.06-.94-.94-2.06-.94 2.06-2.06.94z\"/><path d=\"M17.41 7.96l-1.37-1.37c-.4-.4-.92-.59-1.43-.59-.52 0-1.04.2-1.43.59L10.3 9.45l-7.72 7.72c-.78.78-.78 2.05 0 2.83L4 21.41c.39.39.9.59 1.41.59.51 0 1.02-.2 1.41-.59l7.78-7.78 2.81-2.81c.8-.78.8-2.07 0-2.86zM5.41 20L4 18.59l7.72-7.72 1.47 1.35L5.41 20z\"/>\n",
       "  </svg>\n",
       "      </button>\n",
       "      \n",
       "  <style>\n",
       "    .colab-df-container {\n",
       "      display:flex;\n",
       "      flex-wrap:wrap;\n",
       "      gap: 12px;\n",
       "    }\n",
       "\n",
       "    .colab-df-convert {\n",
       "      background-color: #E8F0FE;\n",
       "      border: none;\n",
       "      border-radius: 50%;\n",
       "      cursor: pointer;\n",
       "      display: none;\n",
       "      fill: #1967D2;\n",
       "      height: 32px;\n",
       "      padding: 0 0 0 0;\n",
       "      width: 32px;\n",
       "    }\n",
       "\n",
       "    .colab-df-convert:hover {\n",
       "      background-color: #E2EBFA;\n",
       "      box-shadow: 0px 1px 2px rgba(60, 64, 67, 0.3), 0px 1px 3px 1px rgba(60, 64, 67, 0.15);\n",
       "      fill: #174EA6;\n",
       "    }\n",
       "\n",
       "    [theme=dark] .colab-df-convert {\n",
       "      background-color: #3B4455;\n",
       "      fill: #D2E3FC;\n",
       "    }\n",
       "\n",
       "    [theme=dark] .colab-df-convert:hover {\n",
       "      background-color: #434B5C;\n",
       "      box-shadow: 0px 1px 3px 1px rgba(0, 0, 0, 0.15);\n",
       "      filter: drop-shadow(0px 1px 2px rgba(0, 0, 0, 0.3));\n",
       "      fill: #FFFFFF;\n",
       "    }\n",
       "  </style>\n",
       "\n",
       "      <script>\n",
       "        const buttonEl =\n",
       "          document.querySelector('#df-f372f5cd-7909-4ae7-a67e-e190423dd9e1 button.colab-df-convert');\n",
       "        buttonEl.style.display =\n",
       "          google.colab.kernel.accessAllowed ? 'block' : 'none';\n",
       "\n",
       "        async function convertToInteractive(key) {\n",
       "          const element = document.querySelector('#df-f372f5cd-7909-4ae7-a67e-e190423dd9e1');\n",
       "          const dataTable =\n",
       "            await google.colab.kernel.invokeFunction('convertToInteractive',\n",
       "                                                     [key], {});\n",
       "          if (!dataTable) return;\n",
       "\n",
       "          const docLinkHtml = 'Like what you see? Visit the ' +\n",
       "            '<a target=\"_blank\" href=https://colab.research.google.com/notebooks/data_table.ipynb>data table notebook</a>'\n",
       "            + ' to learn more about interactive tables.';\n",
       "          element.innerHTML = '';\n",
       "          dataTable['output_type'] = 'display_data';\n",
       "          await google.colab.output.renderOutput(dataTable, element);\n",
       "          const docLink = document.createElement('div');\n",
       "          docLink.innerHTML = docLinkHtml;\n",
       "          element.appendChild(docLink);\n",
       "        }\n",
       "      </script>\n",
       "    </div>\n",
       "  </div>\n",
       "  "
      ],
      "text/plain": [
       "       Close\n",
       "0     274.65\n",
       "1     277.35\n",
       "2     279.30\n",
       "3     274.15\n",
       "4     273.90\n",
       "...      ...\n",
       "1437  611.80\n",
       "1438  613.70\n",
       "1439  612.20\n",
       "1440  612.40\n",
       "1441  605.20\n",
       "\n",
       "[1442 rows x 1 columns]"
      ]
     },
     "execution_count": 82,
     "metadata": {},
     "output_type": "execute_result"
    }
   ],
   "source": [
    "final_df"
   ]
  },
  {
   "cell_type": "code",
   "execution_count": 83,
   "metadata": {
    "colab": {
     "base_uri": "https://localhost:8080/"
    },
    "id": "_B6wpTquNxmG",
    "outputId": "1f1d211f-ed42-4158-b61f-d481f6f58a2c"
   },
   "outputs": [
    {
     "data": {
      "text/plain": [
       "array([[0.26082376],\n",
       "       [0.26651217],\n",
       "       [0.27062046],\n",
       "       ...,\n",
       "       [0.97197935],\n",
       "       [0.97240072],\n",
       "       [0.95723164]])"
      ]
     },
     "execution_count": 83,
     "metadata": {},
     "output_type": "execute_result"
    }
   ],
   "source": [
    "input_data = scaler.fit_transform(final_df)\n",
    "input_data"
   ]
  },
  {
   "cell_type": "code",
   "execution_count": 84,
   "metadata": {
    "id": "AxSgXEVON7L-"
   },
   "outputs": [],
   "source": [
    "x_test = []\n",
    "y_test = []\n",
    "\n",
    "for i in range(100,input_data.shape[0]):\n",
    "  x_test.append(input_data[i-100:i])\n",
    "  y_test.append(input_data[i,0])"
   ]
  },
  {
   "cell_type": "code",
   "execution_count": 85,
   "metadata": {
    "id": "eVMbt1YUO7qo"
   },
   "outputs": [],
   "source": [
    "x_test, y_test = np.array(x_test), np.array(y_test)"
   ]
  },
  {
   "cell_type": "code",
   "execution_count": 86,
   "metadata": {
    "colab": {
     "base_uri": "https://localhost:8080/"
    },
    "id": "m-QsQN8mPAmG",
    "outputId": "9e9d8772-b0cb-4abf-92c7-1d0aa47ea102"
   },
   "outputs": [
    {
     "name": "stdout",
     "output_type": "stream",
     "text": [
      "42/42 [==============================] - 6s 128ms/step\n"
     ]
    }
   ],
   "source": [
    "y_predicted = model.predict(x_test)"
   ]
  },
  {
   "cell_type": "code",
   "execution_count": 87,
   "metadata": {
    "colab": {
     "base_uri": "https://localhost:8080/"
    },
    "id": "XV_eaPmrPP1e",
    "outputId": "e3367c0b-cfaa-42b8-f64b-ce139772dfb3"
   },
   "outputs": [
    {
     "data": {
      "text/plain": [
       "(1342, 1)"
      ]
     },
     "execution_count": 87,
     "metadata": {},
     "output_type": "execute_result"
    }
   ],
   "source": [
    "y_predicted.shape"
   ]
  },
  {
   "cell_type": "code",
   "execution_count": 89,
   "metadata": {
    "colab": {
     "base_uri": "https://localhost:8080/"
    },
    "id": "cCWFeaAHPVkl",
    "outputId": "5e0db67f-a398-448e-e353-8e74f3b4dbd9"
   },
   "outputs": [
    {
     "data": {
      "text/plain": [
       "0.0021068155482987464"
      ]
     },
     "execution_count": 89,
     "metadata": {},
     "output_type": "execute_result"
    }
   ],
   "source": [
    "scaler.scale_[0]"
   ]
  },
  {
   "cell_type": "code",
   "execution_count": 90,
   "metadata": {
    "id": "2lFM_xS1PfXu"
   },
   "outputs": [],
   "source": [
    "scale_factor = 1/scaler.scale_[0]"
   ]
  },
  {
   "cell_type": "code",
   "execution_count": 91,
   "metadata": {
    "id": "Ez4WZlgUPrim"
   },
   "outputs": [],
   "source": [
    "y_predicted = y_predicted * scale_factor\n",
    "y_test = y_test * scale_factor"
   ]
  },
  {
   "cell_type": "code",
   "execution_count": 93,
   "metadata": {
    "colab": {
     "base_uri": "https://localhost:8080/",
     "height": 388
    },
    "id": "OUSeVgtZP4ZG",
    "outputId": "72747e40-d4ff-4952-8308-fd8db24ace46"
   },
   "outputs": [
    {
     "data": {
      "image/png": "[encoded data removed]",
      "text/plain": [
       "<Figure size 864x432 with 1 Axes>"
      ]
     },
     "metadata": {
      "needs_background": "light"
     },
     "output_type": "display_data"
    }
   ],
   "source": [
    "plt.figure(figsize=(12,6))\n",
    "plt.plot(y_test,'b',label = 'Original Price')\n",
    "plt.plot(y_predicted, 'r', label = 'Predicted Price')\n",
    "plt.xlabel('Time')\n",
    "plt.ylabel('Price')\n",
    "plt.legend()\n",
    "plt.show()"
   ]
  },
  {
   "cell_type": "code",
   "execution_count": 1,
   "metadata": {
    "id": "W83txWHLQR_X"
   },
   "outputs": [
    {
     "name": "stdout",
     "output_type": "stream",
     "text": [
      "Enter stock Ticker : aartiind\n",
      "                                                  Date  \\\n",
      "0                                         Jan 31, 2023   \n",
      "1                                         Jan 30, 2023   \n",
      "2                                         Jan 27, 2023   \n",
      "3                                         Jan 25, 2023   \n",
      "4                                         Jan 24, 2023   \n",
      "..                                                 ...   \n",
      "96                                        Sep 14, 2022   \n",
      "97                                        Sep 13, 2022   \n",
      "98                                        Sep 12, 2022   \n",
      "99                                        Sep 09, 2022   \n",
      "100  *Close price adjusted for splits.**Adjusted cl...   \n",
      "\n",
      "                                                  Open  \\\n",
      "0                                                    -   \n",
      "1                                               525.95   \n",
      "2                                               535.70   \n",
      "3                                               551.95   \n",
      "4                                               557.75   \n",
      "..                                                 ...   \n",
      "96                                              883.75   \n",
      "97                                              893.10   \n",
      "98                                              861.10   \n",
      "99                                              858.00   \n",
      "100  *Close price adjusted for splits.**Adjusted cl...   \n",
      "\n",
      "                                                  High  \\\n",
      "0                                                    -   \n",
      "1                                               533.90   \n",
      "2                                               537.65   \n",
      "3                                               554.20   \n",
      "4                                               565.30   \n",
      "..                                                 ...   \n",
      "96                                              924.40   \n",
      "97                                              905.90   \n",
      "98                                              894.70   \n",
      "99                                              861.80   \n",
      "100  *Close price adjusted for splits.**Adjusted cl...   \n",
      "\n",
      "                                                   Low  \\\n",
      "0                                                    -   \n",
      "1                                               523.85   \n",
      "2                                               518.50   \n",
      "3                                               531.00   \n",
      "4                                               550.10   \n",
      "..                                                 ...   \n",
      "96                                              876.55   \n",
      "97                                              890.00   \n",
      "98                                              861.00   \n",
      "99                                              850.00   \n",
      "100  *Close price adjusted for splits.**Adjusted cl...   \n",
      "\n",
      "                                                Close*  \\\n",
      "0                                                    -   \n",
      "1                                               531.50   \n",
      "2                                               525.75   \n",
      "3                                               533.00   \n",
      "4                                               551.25   \n",
      "..                                                 ...   \n",
      "96                                              908.40   \n",
      "97                                              894.50   \n",
      "98                                              888.65   \n",
      "99                                              859.80   \n",
      "100  *Close price adjusted for splits.**Adjusted cl...   \n",
      "\n",
      "                                           Adj Close**  \\\n",
      "0                                                    -   \n",
      "1                                               531.50   \n",
      "2                                               525.75   \n",
      "3                                               533.00   \n",
      "4                                               551.25   \n",
      "..                                                 ...   \n",
      "96                                              906.90   \n",
      "97                                              893.02   \n",
      "98                                              887.18   \n",
      "99                                              858.38   \n",
      "100  *Close price adjusted for splits.**Adjusted cl...   \n",
      "\n",
      "                                                Volume  \n",
      "0                                                    -  \n",
      "1                                               612083  \n",
      "2                                               654029  \n",
      "3                                               917009  \n",
      "4                                               659218  \n",
      "..                                                 ...  \n",
      "96                                             1228172  \n",
      "97                                              935968  \n",
      "98                                             1243283  \n",
      "99                                              458201  \n",
      "100  *Close price adjusted for splits.**Adjusted cl...  \n",
      "\n",
      "[101 rows x 7 columns]\n",
      ";lj\n"
     ]
    },
    {
     "data": {
      "text/plain": [
       "';lj'"
      ]
     },
     "execution_count": 1,
     "metadata": {},
     "output_type": "execute_result"
    }
   ],
   "source": [
    "import pandas as pd\n",
    "from selenium import webdriver\n",
    "from selenium.webdriver.common.by import By\n",
    "from datetime import date\n",
    "import time\n",
    "import os\n",
    "import shutil\n",
    "from selenium.webdriver.support.ui import WebDriverWait\n",
    "from selenium.webdriver.support import expected_conditions as EC\n",
    "from selenium.webdriver import EdgeOptions\n",
    "\n",
    "from selenium import webdriver\n",
    "from selenium.webdriver.support.ui import WebDriverWait\n",
    "from selenium.webdriver.common.by import By\n",
    "from selenium.webdriver.support import expected_conditions as EC\n",
    "\n",
    "\n",
    "\n",
    "symbol = input(\"Enter stock Ticker : \").upper()\n",
    "tickers = pd.read_csv(r\"Data/Static Data/EQUITY.csv\")\n",
    "\n",
    "while not (tickers['SYMBOL'].eq(symbol)).any():\n",
    "    symbol = input(\"Enter valid Stock Ticker : \")\n",
    "\n",
    "\n",
    "browser = webdriver.Edge()\n",
    "browser.maximize_window()\n",
    "# browser.get(f\"https://finance.yahoo.com/quote/{symbol}.NS?p={symbol}.NS&.tsrc=fin-srch/\")\n",
    "browser.get(f\"https://finance.yahoo.com/quote/{symbol}.NS/history?p={symbol}.NS\")\n",
    "time.sleep(3)\n",
    "calendar = browser.find_element(By.XPATH,\"//span[@class='C($linkColor) Fz(14px)']\")\n",
    "calendar.click()\n",
    "time.sleep(1)\n",
    "year_5 = browser.find_element(By.XPATH,\"//span[normalize-space()='5Y']\")\n",
    "year_5.click()\n",
    "apply = browser.find_element(By.XPATH,\"//button[contains(@class,'Py(9px) Fl(end)')]\")\n",
    "apply.click()\n",
    "time.sleep(3)\n",
    "df = pd.read_html(browser.find_element(By.XPATH, '//*[@id=\"Col1-1-HistoricalDataTable-Proxy\"]/section/div[2]/table').get_attribute('outerHTML'))[0]\n",
    "# df = df.sort_index(ascending=False)\n",
    "# df = df.reset_index(drop=True)\n",
    "print(df)\n",
    "\n",
    "input()"
   ]
  },
  {
   "cell_type": "code",
   "execution_count": 3,
   "metadata": {},
   "outputs": [
    {
     "data": {
      "text/html": [
       "<div>\n",
       "<style scoped>\n",
       "    .dataframe tbody tr th:only-of-type {\n",
       "        vertical-align: middle;\n",
       "    }\n",
       "\n",
       "    .dataframe tbody tr th {\n",
       "        vertical-align: top;\n",
       "    }\n",
       "\n",
       "    .dataframe thead th {\n",
       "        text-align: right;\n",
       "    }\n",
       "</style>\n",
       "<table border=\"1\" class=\"dataframe\">\n",
       "  <thead>\n",
       "    <tr style=\"text-align: right;\">\n",
       "      <th></th>\n",
       "      <th>Date</th>\n",
       "      <th>Open</th>\n",
       "      <th>High</th>\n",
       "      <th>Low</th>\n",
       "      <th>Close*</th>\n",
       "      <th>Adj Close**</th>\n",
       "      <th>Volume</th>\n",
       "    </tr>\n",
       "  </thead>\n",
       "  <tbody>\n",
       "    <tr>\n",
       "      <th>96</th>\n",
       "      <td>Sep 14, 2022</td>\n",
       "      <td>883.75</td>\n",
       "      <td>924.40</td>\n",
       "      <td>876.55</td>\n",
       "      <td>908.40</td>\n",
       "      <td>906.90</td>\n",
       "      <td>1228172</td>\n",
       "    </tr>\n",
       "    <tr>\n",
       "      <th>97</th>\n",
       "      <td>Sep 13, 2022</td>\n",
       "      <td>893.10</td>\n",
       "      <td>905.90</td>\n",
       "      <td>890.00</td>\n",
       "      <td>894.50</td>\n",
       "      <td>893.02</td>\n",
       "      <td>935968</td>\n",
       "    </tr>\n",
       "    <tr>\n",
       "      <th>98</th>\n",
       "      <td>Sep 12, 2022</td>\n",
       "      <td>861.10</td>\n",
       "      <td>894.70</td>\n",
       "      <td>861.00</td>\n",
       "      <td>888.65</td>\n",
       "      <td>887.18</td>\n",
       "      <td>1243283</td>\n",
       "    </tr>\n",
       "    <tr>\n",
       "      <th>99</th>\n",
       "      <td>Sep 09, 2022</td>\n",
       "      <td>858.00</td>\n",
       "      <td>861.80</td>\n",
       "      <td>850.00</td>\n",
       "      <td>859.80</td>\n",
       "      <td>858.38</td>\n",
       "      <td>458201</td>\n",
       "    </tr>\n",
       "    <tr>\n",
       "      <th>100</th>\n",
       "      <td>*Close price adjusted for splits.**Adjusted cl...</td>\n",
       "      <td>*Close price adjusted for splits.**Adjusted cl...</td>\n",
       "      <td>*Close price adjusted for splits.**Adjusted cl...</td>\n",
       "      <td>*Close price adjusted for splits.**Adjusted cl...</td>\n",
       "      <td>*Close price adjusted for splits.**Adjusted cl...</td>\n",
       "      <td>*Close price adjusted for splits.**Adjusted cl...</td>\n",
       "      <td>*Close price adjusted for splits.**Adjusted cl...</td>\n",
       "    </tr>\n",
       "  </tbody>\n",
       "</table>\n",
       "</div>"
      ],
      "text/plain": [
       "                                                  Date  \\\n",
       "96                                        Sep 14, 2022   \n",
       "97                                        Sep 13, 2022   \n",
       "98                                        Sep 12, 2022   \n",
       "99                                        Sep 09, 2022   \n",
       "100  *Close price adjusted for splits.**Adjusted cl...   \n",
       "\n",
       "                                                  Open  \\\n",
       "96                                              883.75   \n",
       "97                                              893.10   \n",
       "98                                              861.10   \n",
       "99                                              858.00   \n",
       "100  *Close price adjusted for splits.**Adjusted cl...   \n",
       "\n",
       "                                                  High  \\\n",
       "96                                              924.40   \n",
       "97                                              905.90   \n",
       "98                                              894.70   \n",
       "99                                              861.80   \n",
       "100  *Close price adjusted for splits.**Adjusted cl...   \n",
       "\n",
       "                                                   Low  \\\n",
       "96                                              876.55   \n",
       "97                                              890.00   \n",
       "98                                              861.00   \n",
       "99                                              850.00   \n",
       "100  *Close price adjusted for splits.**Adjusted cl...   \n",
       "\n",
       "                                                Close*  \\\n",
       "96                                              908.40   \n",
       "97                                              894.50   \n",
       "98                                              888.65   \n",
       "99                                              859.80   \n",
       "100  *Close price adjusted for splits.**Adjusted cl...   \n",
       "\n",
       "                                           Adj Close**  \\\n",
       "96                                              906.90   \n",
       "97                                              893.02   \n",
       "98                                              887.18   \n",
       "99                                              858.38   \n",
       "100  *Close price adjusted for splits.**Adjusted cl...   \n",
       "\n",
       "                                                Volume  \n",
       "96                                             1228172  \n",
       "97                                              935968  \n",
       "98                                             1243283  \n",
       "99                                              458201  \n",
       "100  *Close price adjusted for splits.**Adjusted cl...  "
      ]
     },
     "execution_count": 3,
     "metadata": {},
     "output_type": "execute_result"
    }
   ],
   "source": [
    "df.tail()"
   ]
  },
  {
   "cell_type": "code",
   "execution_count": null,
   "metadata": {},
   "outputs": [],
   "source": []
  }
 ],
 "metadata": {
  "colab": {
   "provenance": []
  },
  "kernelspec": {
   "display_name": "Python 3 (ipykernel)",
   "language": "python",
   "name": "python3"
  },
  "language_info": {
   "codemirror_mode": {
    "name": "ipython",
    "version": 3
   },
   "file_extension": ".py",
   "mimetype": "text/x-python",
   "name": "python",
   "nbconvert_exporter": "python",
   "pygments_lexer": "ipython3",
   "version": "3.7.15"
  }
 },
 "nbformat": 4,
 "nbformat_minor": 1
}
